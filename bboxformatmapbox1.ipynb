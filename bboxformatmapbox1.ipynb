{
 "cells": [
  {
   "cell_type": "code",
   "execution_count": 1,
   "metadata": {},
   "outputs": [],
   "source": [
    "#This script is designed to do some quick formatting"
   ]
  },
  {
   "cell_type": "code",
   "execution_count": 2,
   "metadata": {},
   "outputs": [],
   "source": [
    "import pandas as pd\n",
    "import numpy as np\n",
    "import re"
   ]
  },
  {
   "cell_type": "code",
   "execution_count": null,
   "metadata": {},
   "outputs": [],
   "source": [
    "def seplatlon(df):\n",
    "    print('in points') #this fr lat/lon\n",
    "    df2=df[~df['lat'].str.contains(\"Points\",na=False)].copy()#.to_csv('latlondatloc.csv',index=None)\t\n",
    "    df2=df2[df2['lat'].notnull()]\n",
    "    df2['optrad'].fillna(0, inplace=True)\n",
    "    df2['date'] = pd.to_datetime(df.date)\n",
    "    df2=df2.drop_duplicates(subset=['lat','lon'], keep=\"first\")#added for month visualization\n",
    "    df2=df2.sort_values(by='date')\n",
    "    df2.to_csv('latlondatloc.csv',index=None)\n",
    "\n",
    "def sepbboxpoly(df):\n",
    "    df3=df[df['lat'].str.contains(\"Points\",na=False)].copy()\n",
    "    df3.to_csv('latlonbbox.csv',index=None)\n",
    "\n",
    "def sepcoordbboxpoly:\n",
    "    df=pd.read_csv('latlondat.txt',dtype=str,encoding=\"ISO-8859-1\")\n",
    "    seplatlon(df)\n",
    "    sepbboxpoly(df)"
   ]
  },
  {
   "cell_type": "code",
   "execution_count": null,
   "metadata": {},
   "outputs": [],
   "source": [
    "sepcoordbboxpoly()"
   ]
  },
  {
   "cell_type": "code",
   "execution_count": null,
   "metadata": {},
   "outputs": [],
   "source": [
    "#below is to format polygon and bounding box coordinates, while leaving all data intact"
   ]
  },
  {
   "cell_type": "code",
   "execution_count": null,
   "metadata": {},
   "outputs": [],
   "source": [
    "pd.set_option('display.min_rows', 500)\n",
    "df=pd.read_csv(\"latlonbbox.csv\",usecols=[\"date\",\"name\",\"lat\"])"
   ]
  },
  {
   "cell_type": "code",
   "execution_count": null,
   "metadata": {},
   "outputs": [],
   "source": [
    "df.columns=[\"Date\",\"Name\",\"Points\"]"
   ]
  },
  {
   "cell_type": "code",
   "execution_count": null,
   "metadata": {},
   "outputs": [],
   "source": [
    "df['FormatLat'] = pd.Series(index=df.index)\n",
    "df['IsBBOX'] = pd.Series(index=df.index)\n",
    "df['LatVec'] = pd.Series(index=df.index)\n",
    "df['LonVec'] = pd.Series(index=df.index)"
   ]
  },
  {
   "cell_type": "code",
   "execution_count": null,
   "metadata": {},
   "outputs": [],
   "source": [
    "#pstr1=pstr.split(\",\")\n",
    "#print(pstr1)\n",
    "#re.split(\"(-{0,1}[0-9]*.[0-9]*-)\",pstr)\n",
    "def reampoint(stri):\n",
    "    #print(\"stri= \"+stri)\n",
    "    c=stri.count(\"-\")\n",
    "    if c == 3 or (c==2 and not (\"--\" in stri)):\n",
    "        #print(\"up\")\n",
    "        pos = stri.index('-', stri.index('-') + 1)\n",
    "        strx = stri[:pos] + ',' + stri[pos + 1:]\n",
    "    elif c==2 and (\"--\" in stri):\n",
    "        #print(\"topmid\")\n",
    "        strx= stri.replace(\"-\",\",\",1)\n",
    "    elif c==1: #means there is none or second\n",
    "        #print(\"down\")\n",
    "        #strx = stri[:pos] + ',' + stri[pos + 1:]\n",
    "        strx=stri.replace(\"-\",\",\")\n",
    "    else: print(\"********\\unknown format\\n*******\")\n",
    "    #print(\"strx=\"+strx+\"\\n\")\n",
    "    \n",
    "    return strx\n",
    "\n",
    "for count,pstrall in enumerate(df[\"Points\"]):#pstrall in df[\"Points\"]:\n",
    "    arr=[]\n",
    "    pstrall=pstrall.replace(\"Points:\",\"\")\n",
    "    pstrdat=pstrall.split(\",\")\n",
    "    for stri in pstrdat:\n",
    "        arr.append(reampoint(stri))\n",
    "    if len(arr)>2:\n",
    "        df['IsBBOX'][count]=False\n",
    "    elif len(arr)<=2:\n",
    "        df['IsBBOX'][count]=True\n",
    "    strf='|'.join(arr)\n",
    "    df['FormatLat'][count]=strf\n",
    "#print(arr)"
   ]
  },
  {
   "cell_type": "code",
   "execution_count": null,
   "metadata": {},
   "outputs": [],
   "source": [
    "dfbbox=df[df['IsBBOX']==True].reset_index()"
   ]
  },
  {
   "cell_type": "code",
   "execution_count": null,
   "metadata": {},
   "outputs": [],
   "source": [
    "#strtest='(23.467122,120.247811)|(23.554839,120.345531)'\n",
    "def bboxtovec(stri):\n",
    "    theveclon=[]\n",
    "    theveclat=[]\n",
    "    afterarrs=[]\n",
    "    arrs=stri.split('|')\n",
    "    for stri1 in arrs:\n",
    "        stri1=stri1.replace(\")\",\"\")\n",
    "        stri1=stri1.replace(\"(\",\"\")\n",
    "        indiv=stri1.split(\",\")#indiv[0] is lat, indiv[1] is lon\n",
    "        print(indiv)\n",
    "        afterarrs.append(indiv)\n",
    "        print('\\n')\n",
    "    print(afterarrs)\n",
    "        #here we begin 4 point cases\n",
    "    if afterarrs[0][0] < afterarrs[1][0] and afterarrs[0][1] < afterarrs[1][1]:\n",
    "        print(\"in first\")#good\n",
    "        theveclon=[afterarrs[0][1],afterarrs[0][1],afterarrs[1][1],afterarrs[1][1]]\n",
    "        theveclat=[afterarrs[0][0],afterarrs[1][0],afterarrs[1][0],afterarrs[0][0]]\n",
    "    elif afterarrs[0][0] > afterarrs[1][0] and afterarrs[0][1] < afterarrs[1][1]:\n",
    "        print(\"in second\")#good\n",
    "        theveclon=[afterarrs[0][1],afterarrs[1][1],afterarrs[1][1],afterarrs[0][1]]\n",
    "        theveclat=[afterarrs[0][0],afterarrs[0][0],afterarrs[1][0],afterarrs[1][0]]\n",
    "    elif afterarrs[0][0] > afterarrs[1][0] and afterarrs[0][1] > afterarrs[1][1]:\n",
    "        print(\"in third\")#good\n",
    "        theveclon=[afterarrs[1][1],afterarrs[1][1],afterarrs[0][1],afterarrs[0][1]]\n",
    "        theveclat=[afterarrs[1][0],afterarrs[0][0],afterarrs[0][0],afterarrs[1][0]]\n",
    "    elif afterarrs[0][0] < afterarrs[1][0] and afterarrs[0][1] > afterarrs[1][1]:\n",
    "        print(\"in fourth\")#good\n",
    "        theveclon=[afterarrs[1][1],afterarrs[0][1],afterarrs[0][1],afterarrs[1][1]]\n",
    "        theveclat=[afterarrs[1][0],afterarrs[1][0],afterarrs[0][0],afterarrs[0][0]]    \n",
    "    \n",
    "    print(\"******\")\n",
    "    print(theveclon)\n",
    "    print(theveclat)\n",
    "    print(\"******\")\n",
    "    return [theveclon,theveclat]\n",
    "    \n",
    "#print(bboxtovec(strtest))"
   ]
  },
  {
   "cell_type": "code",
   "execution_count": null,
   "metadata": {
    "scrolled": true
   },
   "outputs": [],
   "source": [
    "for i in range(0,len(dfbbox.index)):\n",
    "    retv=bboxtovec(dfbbox[\"FormatLat\"][i])\n",
    "    dfbbox[\"LatVec\"][i]=retv[1]\n",
    "    dfbbox[\"LonVec\"][i]=retv[0]\n",
    "    #print(df[\"FormatLat\"][i])"
   ]
  },
  {
   "cell_type": "code",
   "execution_count": null,
   "metadata": {},
   "outputs": [],
   "source": [
    "dfbbox2=dfbbox.drop_duplicates(subset=[\"FormatLat\"],keep='first')"
   ]
  },
  {
   "cell_type": "code",
   "execution_count": null,
   "metadata": {},
   "outputs": [],
   "source": [
    "dfbbox2.reset_index(inplace=True)"
   ]
  },
  {
   "cell_type": "code",
   "execution_count": null,
   "metadata": {},
   "outputs": [],
   "source": [
    "dfbbox2"
   ]
  },
  {
   "cell_type": "code",
   "execution_count": null,
   "metadata": {},
   "outputs": [],
   "source": [
    "st2=dfbbox2.to_csv(index=None).replace(\"[\",\"\").replace(\"]\",\"\").replace(\"'\",\"\")\n",
    "with open(\"latlonbboxwvecreduced.csv\",\"w\") as f:\n",
    "    f.write(st2)"
   ]
  },
  {
   "cell_type": "code",
   "execution_count": null,
   "metadata": {},
   "outputs": [],
   "source": [
    "def polytovec(stri):\n",
    "    theveclon=[]\n",
    "    theveclat=[]\n",
    "    afterarrs=[]\n",
    "    arrs=stri.split('|')\n",
    "    for stri1 in arrs:\n",
    "        stri1=stri1.replace(\")\",\"\")\n",
    "        stri1=stri1.replace(\"(\",\"\")\n",
    "        indiv=stri1.split(\",\")#indiv[0] is lat, indiv[1] is lon\n",
    "        print(indiv)\n",
    "        afterarrs.append(indiv)\n",
    "        print('\\n')\n",
    "    print(afterarrs)\n",
    "    \n",
    "    for subarr in afterarrs:\n",
    "        theveclat.append(subarr[0])\n",
    "        theveclon.append(subarr[1])\n",
    "    \n",
    "    #print('theveclat=')\n",
    "    #print(theveclat)\n",
    "    #print('theveclon=')\n",
    "    #print(theveclon)\n",
    "    \n",
    "    return [theveclon,theveclat]\n",
    "    "
   ]
  },
  {
   "cell_type": "code",
   "execution_count": null,
   "metadata": {},
   "outputs": [],
   "source": [
    "dfpoly=dfbbox=df[df['IsBBOX']==False].reset_index()"
   ]
  },
  {
   "cell_type": "code",
   "execution_count": null,
   "metadata": {
    "scrolled": true
   },
   "outputs": [],
   "source": [
    "dfpoly"
   ]
  },
  {
   "cell_type": "code",
   "execution_count": null,
   "metadata": {},
   "outputs": [],
   "source": [
    "for i in range(0,len(dfpoly.index)):\n",
    "    retv=polytovec(dfpoly[\"FormatLat\"][i])\n",
    "    dfpoly[\"LatVec\"][i]=retv[1]\n",
    "    dfpoly[\"LonVec\"][i]=retv[0]"
   ]
  },
  {
   "cell_type": "code",
   "execution_count": null,
   "metadata": {},
   "outputs": [],
   "source": [
    "dfpoly2=dfpoly.drop_duplicates(subset=[\"FormatLat\"],keep='first')"
   ]
  },
  {
   "cell_type": "code",
   "execution_count": null,
   "metadata": {},
   "outputs": [],
   "source": [
    "dfpoly2=dfpoly2.reset_index()"
   ]
  },
  {
   "cell_type": "code",
   "execution_count": null,
   "metadata": {},
   "outputs": [],
   "source": [
    "st3=dfpoly2.to_csv(index=None).replace(\"[\",\"\").replace(\"]\",\"\").replace(\"'\",\"\")\n",
    "with open(\"latlonpolywvecreduced.csv\",\"w\") as f:\n",
    "    f.write(st3)"
   ]
  },
  {
   "cell_type": "code",
   "execution_count": null,
   "metadata": {},
   "outputs": [],
   "source": []
  }
 ],
 "metadata": {
  "kernelspec": {
   "display_name": "Python 3",
   "language": "python",
   "name": "python3"
  },
  "language_info": {
   "codemirror_mode": {
    "name": "ipython",
    "version": 3
   },
   "file_extension": ".py",
   "mimetype": "text/x-python",
   "name": "python",
   "nbconvert_exporter": "python",
   "pygments_lexer": "ipython3",
   "version": "3.7.4"
  }
 },
 "nbformat": 4,
 "nbformat_minor": 2
}
